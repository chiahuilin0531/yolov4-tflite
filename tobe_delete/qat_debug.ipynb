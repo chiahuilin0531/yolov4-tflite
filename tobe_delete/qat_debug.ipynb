{
 "cells": [
  {
   "cell_type": "code",
   "execution_count": 1,
   "metadata": {},
   "outputs": [
    {
     "name": "stderr",
     "output_type": "stream",
     "text": [
      "2022-06-27 19:48:43.643599: I tensorflow/core/util/util.cc:169] oneDNN custom operations are on. You may see slightly different numerical results due to floating-point round-off errors from different computation orders. To turn them off, set the environment variable `TF_ENABLE_ONEDNN_OPTS=0`.\n"
     ]
    },
    {
     "name": "stdout",
     "output_type": "stream",
     "text": [
      "file /home/user/anaconda3/envs/WJtf29/lib/python3.8/site-packages/tensorflow/lite/python/interpreter is not end with tflite_runtime/interpreter\n"
     ]
    }
   ],
   "source": [
    "import os\n",
    "os.environ['CUDA_VISIBLE_DEVICES']='7'\n",
    "import tensorflow as tf\n",
    "import numpy as np\n",
    "import cv2\n",
    "import pandas as pd\n",
    "import matplotlib.pyplot as plt\n",
    "from easydict import EasyDict as edict\n",
    "from tqdm import tqdm\n",
    "FLAGS = edict()\n",
    "\n",
    "# FLAGS.weights ='./checkpoints/day_tw_qat_tf23/save_model_final_tflite/'\n",
    "FLAGS.weights ='./checkpoints/day_tw_qat_tf29/save_model_0059_tflite/'\n",
    "FLAGS.output ='./checkpoints/tmp.tflite'\n",
    "FLAGS.input_size =608\n",
    "FLAGS.quantize_mode ='float32'\n",
    "FLAGS.dataset =\"datasets/data_selection_mix/anno/val_3cls.txt\"\n"
   ]
  },
  {
   "cell_type": "code",
   "execution_count": 3,
   "metadata": {},
   "outputs": [],
   "source": [
    "def representative_data_gen():\n",
    "  len_img=50\n",
    "  fimage = open(FLAGS.dataset).readlines()\n",
    "  fimage = [line.split()[0] for line in fimage]\n",
    "  np.random.seed(0)\n",
    "  np.random.shuffle(fimage)\n",
    "  with tqdm(total=len_img, ncols=200) as pbar:\n",
    "    for input_value in range(len_img):\n",
    "      if os.path.exists(fimage[input_value]):\n",
    "        original_image=cv2.imread(fimage[input_value])\n",
    "        original_image = cv2.cvtColor(original_image, cv2.COLOR_BGR2RGB)\n",
    "        # Processing V1\n",
    "        # image_data = utils.image_preprocess(np.copy(original_image), [FLAGS.input_size, FLAGS.input_size])\n",
    "        #####################################################################################################\n",
    "        # Processing V2\n",
    "        image_data = cv2.resize(np.copy(original_image), (FLAGS.input_size, FLAGS.input_size))\n",
    "        image_data = image_data / 255.0\n",
    "        #####################################################################################################\n",
    "        img_in = image_data[np.newaxis, ...].astype(np.float32)\n",
    "        pbar.set_postfix({\n",
    "          'image': fimage[input_value]\n",
    "        })\n",
    "        pbar.update(1)\n",
    "        yield [img_in]\n",
    "      else:\n",
    "        pbar.set_postfix({\n",
    "          'image': ''\n",
    "        })\n",
    "        pbar.update(1)\n",
    "\n",
    "def add_statistic(filename):\n",
    "  layer_stats = pd.read_csv(filename)\n",
    "  print(layer_stats.head())\n",
    "  layer_stats['range'] = 255.0 * layer_stats['scale']\n",
    "  layer_stats['rmse/scale'] = layer_stats.apply(\n",
    "      lambda row: np.sqrt(row['mean_squared_error']) / row['scale'], axis=1)\n",
    "  return layer_stats\n",
    "  # layer_stats[['op_name', 'range', 'rmse/scale']].head()\n",
    "  "
   ]
  },
  {
   "cell_type": "code",
   "execution_count": 5,
   "metadata": {},
   "outputs": [
    {
     "name": "stderr",
     "output_type": "stream",
     "text": [
      "2022-06-27 19:51:15.889299: W tensorflow/compiler/mlir/lite/python/tf_tfl_flatbuffer_helpers.cc:362] Ignored output_format.\n",
      "2022-06-27 19:51:15.889345: W tensorflow/compiler/mlir/lite/python/tf_tfl_flatbuffer_helpers.cc:365] Ignored drop_control_dependency.\n",
      "2022-06-27 19:51:15.889527: I tensorflow/cc/saved_model/reader.cc:43] Reading SavedModel from: ./checkpoints/day_tw_qat_tf29/save_model_0059_tflite/\n",
      "2022-06-27 19:51:15.928767: I tensorflow/cc/saved_model/reader.cc:81] Reading meta graph with tags { serve }\n",
      "2022-06-27 19:51:15.928819: I tensorflow/cc/saved_model/reader.cc:122] Reading SavedModel debug info (if present) from: ./checkpoints/day_tw_qat_tf29/save_model_0059_tflite/\n",
      "2022-06-27 19:51:16.059778: I tensorflow/cc/saved_model/loader.cc:228] Restoring SavedModel bundle.\n",
      "2022-06-27 19:51:16.540086: I tensorflow/cc/saved_model/loader.cc:212] Running initialization op on SavedModel bundle at path: ./checkpoints/day_tw_qat_tf29/save_model_0059_tflite/\n",
      "2022-06-27 19:51:16.750453: I tensorflow/cc/saved_model/loader.cc:301] SavedModel load for tags { serve }; Status: success: OK. Took 860927 microseconds.\n",
      "100%|████████████████████████████████████████████████████████████████████████████████████████████████████████████| 50/50 [00:41<00:00,  1.19it/s, image=datasets/data_selection/images/image_000741.jpg]\n",
      "fully_quantize: 0, inference_type: 6, input_inference_type: 0, output_inference_type: 0\n",
      "100%|████████████████████████████████████████████████████████████████████████████████████████████████████████████| 50/50 [01:05<00:00,  1.31s/it, image=datasets/data_selection/images/image_000741.jpg]\n"
     ]
    },
    {
     "name": "stdout",
     "output_type": "stream",
     "text": [
      "origin model 6011416 bytes\n",
      "   op_name  tensor_idx  num_elements    stddev  mean_error  max_abs_error  \\\n",
      "0     RELU         118     2957312.0  0.006270   -0.002940       0.122591   \n",
      "1      PAD         122     2976800.0  0.000000    0.000000       0.000000   \n",
      "2  CONV_2D         126     1478656.0  0.173421    0.000573       0.929668   \n",
      "3     RELU         130     1478656.0  0.048481    0.006388       0.131863   \n",
      "4  CONV_2D         134     1478656.0  0.110942    0.000437       0.963905   \n",
      "\n",
      "   mean_squared_error     scale  zero_point  \\\n",
      "0            0.000050  0.247125        -128   \n",
      "1            0.000000  0.247125        -128   \n",
      "2            0.030075  0.600441          14   \n",
      "3            0.002393  0.266078        -128   \n",
      "4            0.012308  0.384223          27   \n",
      "\n",
      "                                         tensor_name  \n",
      "0                              model/tf.nn.relu/Relu  \n",
      "1                   model/quant_zero_padding2d_1/Pad  \n",
      "2  model/quant_batch_normalization_1/FusedBatchNo...  \n",
      "3                            model/tf.nn.relu_1/Relu  \n",
      "4  model/quant_batch_normalization_2/FusedBatchNo...  \n"
     ]
    },
    {
     "name": "stderr",
     "output_type": "stream",
     "text": [
      "fully_quantize: 0, inference_type: 6, input_inference_type: 0, output_inference_type: 0\n"
     ]
    },
    {
     "data": {
      "text/plain": [
       "''"
      ]
     },
     "execution_count": 5,
     "metadata": {},
     "output_type": "execute_result"
    }
   ],
   "source": [
    "if not os.path.exists(os.path.dirname(FLAGS.output)):\n",
    "  os.makedirs(os.path.dirname(FLAGS.output))\n",
    "converter = tf.lite.TFLiteConverter.from_saved_model(FLAGS.weights)\n",
    "converter.target_spec.supported_ops = [tf.lite.OpsSet.TFLITE_BUILTINS, tf.lite.OpsSet.SELECT_TF_OPS, tf.lite.OpsSet.TFLITE_BUILTINS_INT8]\n",
    "converter.allow_custom_ops = True\n",
    "converter.optimizations = [tf.lite.Optimize.DEFAULT]\n",
    "converter.representative_dataset = representative_data_gen\n",
    "debugger = tf.lite.experimental.QuantizationDebugger(\n",
    "  converter=converter, debug_dataset=representative_data_gen)\n",
    "debugger.run()\n",
    "\n",
    "\n",
    "origin_int8_model = debugger.get_nondebug_quantized_model()\n",
    "num_of_bytes = open('./origin_int8_model.tflite', 'wb').write(origin_int8_model)\n",
    "print(f'origin model {num_of_bytes} bytes')\n",
    "\n",
    "RESULTS_FILE = './debugger_results.csv'\n",
    "RESULTS_FILE_V2 = './debugger_results_V2.csv'\n",
    "with open(RESULTS_FILE, 'w') as f:\n",
    "  debugger.layer_statistics_dump(f)\n",
    "layer_stats = add_statistic(RESULTS_FILE)\n",
    "layer_stats.to_csv(RESULTS_FILE_V2)\n"
   ]
  },
  {
   "cell_type": "code",
   "execution_count": 6,
   "metadata": {},
   "outputs": [
    {
     "data": {
      "image/png": "[encoded data removed]",
      "text/plain": [
       "<Figure size 1080x360 with 2 Axes>"
      ]
     },
     "metadata": {
      "needs_background": "light"
     },
     "output_type": "display_data"
    }
   ],
   "source": [
    "plt.figure(figsize=(15, 5))\n",
    "ax1 = plt.subplot(121)\n",
    "ax1.bar(np.arange(len(layer_stats)), layer_stats['range'])\n",
    "ax1.set_ylabel('range')\n",
    "ax2 = plt.subplot(122)\n",
    "ax2.bar(np.arange(len(layer_stats)), layer_stats['rmse/scale'])\n",
    "ax2.set_ylabel('rmse/scale')\n",
    "plt.savefig('int8_analysis.jpg')"
   ]
  },
  {
   "cell_type": "code",
   "execution_count": null,
   "metadata": {},
   "outputs": [],
   "source": [
    "# threshold=0.28 #0.295 # 1./np.sqrt(12) + 0.0001 # 0.30\n",
    "# print(threshold)\n",
    "# layer_stats[layer_stats['rmse/scale'] > threshold][[\n",
    "#     'op_name', 'range', 'rmse/scale', 'tensor_name', 'mean_squared_error', 'scale', 'num_elements'\n",
    "# ]]"
   ]
  },
  {
   "cell_type": "code",
   "execution_count": 46,
   "metadata": {},
   "outputs": [
    {
     "name": "stdout",
     "output_type": "stream",
     "text": [
      "num of freeze layer 65/97\n",
      "['model/tf.nn.relu/Relu'\n",
      " 'model/quant_batch_normalization_1/FusedBatchNormV3;model/quant_conv2d_8/Conv2D;model/quant_conv2d_1/Conv2D'\n",
      " 'model/tf.nn.relu_1/Relu'\n",
      " 'model/quant_batch_normalization_2/FusedBatchNormV3;model/quant_conv2d_8/Conv2D;model/quant_conv2d_2/Conv2D'\n",
      " 'model/tf.nn.relu_2/Relu'\n",
      " 'model/quant_batch_normalization_3/FusedBatchNormV3;model/quant_conv2d_4/Conv2D;model/quant_conv2d_3/Conv2D'\n",
      " 'model/tf.nn.relu_3/Relu'\n",
      " 'model/quant_batch_normalization_4/FusedBatchNormV3;model/quant_conv2d_4/Conv2D'\n",
      " 'model/tf.nn.relu_4/Relu'\n",
      " 'model/quant_batch_normalization_5/FusedBatchNormV3;model/quant_conv2d_8/Conv2D;model/quant_conv2d_5/Conv2D'\n",
      " 'model/tf.nn.relu_5/Relu'\n",
      " 'model/quant_batch_normalization_6/FusedBatchNormV3;model/quant_conv2d_12/Conv2D;model/quant_conv2d_6/Conv2D'\n",
      " 'model/tf.nn.relu_6/Relu'\n",
      " 'model/quant_batch_normalization_7/FusedBatchNormV3;model/quant_conv2d_8/Conv2D;model/quant_conv2d_7/Conv2D'\n",
      " 'model/tf.nn.relu_7/Relu'\n",
      " 'model/quant_batch_normalization_8/FusedBatchNormV3;model/quant_conv2d_8/Conv2D'\n",
      " 'model/tf.nn.relu_8/Relu'\n",
      " 'model/quant_batch_normalization_9/FusedBatchNormV3;model/quant_conv2d_12/Conv2D;model/quant_conv2d_9/Conv2D'\n",
      " 'model/tf.nn.relu_9/Relu'\n",
      " 'model/quant_batch_normalization_10/FusedBatchNormV3;model/quant_conv2d_15/Conv2D;model/quant_conv2d_10/Conv2D'\n",
      " 'model/tf.nn.relu_10/Relu'\n",
      " 'model/quant_batch_normalization_11/FusedBatchNormV3;model/quant_conv2d_12/Conv2D;model/quant_conv2d_11/Conv2D'\n",
      " 'model/tf.nn.relu_11/Relu'\n",
      " 'model/quant_batch_normalization_12/FusedBatchNormV3;model/quant_conv2d_12/Conv2D'\n",
      " 'model/tf.nn.relu_12/Relu'\n",
      " 'model/quant_batch_normalization_13/FusedBatchNormV3;model/quant_conv2d_15/Conv2D;model/quant_conv2d_13/Conv2D'\n",
      " 'model/tf.nn.relu_13/Relu'\n",
      " 'model/quant_batch_normalization_14/FusedBatchNormV3;model/quant_conv2d_16/Conv2D;model/quant_conv2d_14/Conv2D'\n",
      " 'model/tf.nn.relu_14/Relu'\n",
      " 'model/quant_batch_normalization_15/FusedBatchNormV3;model/quant_conv2d_15/Conv2D'\n",
      " 'model/tf.nn.relu_15/Relu'\n",
      " 'model/quant_batch_normalization_16/FusedBatchNormV3;model/quant_conv2d_16/Conv2D'\n",
      " 'model/tf.nn.relu_16/Relu'\n",
      " 'model/quant_conv2d_17/BiasAdd;model/quant_conv2d_20/Conv2D;model/quant_conv2d_17/Conv2D;model/quant_conv2d_17/BiasAdd/ReadVariableOp1'\n",
      " 'model/lambda_9/mul2' 'model/lambda_9/mul4' 'model/lambda_10/sub'\n",
      " 'model/lambda_10/add4' 'model/lambda_10/add5' 'model/lambda_10/mul4'\n",
      " 'model/tf.math.multiply_1/Mul3' 'model/tf.math.multiply_1/Mul4'\n",
      " 'model/tf.math.multiply_1/Mul5' 'model/lambda_11/mul2'\n",
      " 'model/lambda_11/mul3' 'model/lambda_11/mul4' 'model/tf.concat_8/concat'\n",
      " 'model/quant_batch_normalization_17/FusedBatchNormV3;model/quant_conv2d_18/Conv2D'\n",
      " 'model/tf.nn.relu_17/Relu' 'model/lambda_3/resize/ResizeBilinear'\n",
      " 'model/quant_batch_normalization_18/FusedBatchNormV3;model/quant_conv2d_19/Conv2D'\n",
      " 'model/tf.nn.relu_18/Relu'\n",
      " 'model/quant_conv2d_20/BiasAdd;model/quant_conv2d_20/Conv2D;model/quant_conv2d_20/BiasAdd/ReadVariableOp1'\n",
      " 'model/lambda_5/mul2' 'model/lambda_5/mul4' 'model/lambda_6/sub'\n",
      " 'model/lambda_6/add4' 'model/lambda_6/add5' 'model/lambda_6/mul5'\n",
      " 'model/tf.math.multiply/Mul3' 'model/tf.math.multiply/Mul5'\n",
      " 'model/lambda_7/mul3' 'model/lambda_7/mul4' 'model/lambda_7/mul5'\n",
      " 'StatefulPartitionedCall:1']\n"
     ]
    }
   ],
   "source": [
    "threshold=0.0\n",
    "suspected_layers = list(layer_stats[layer_stats['rmse/scale'] > threshold]['tensor_name'])\n",
    "# suspected_layers = list(layer_stats[layer_stats['rmse/scale'] < threshold]['tensor_name'])\n",
    "# suspected_layers = list(layer_stats['tensor_name'])\n",
    "print(f'num of freeze layer {len(suspected_layers)}/{len(layer_stats)}', )\n",
    "print(np.array(suspected_layers))\n",
    "# discrad quant of first few layers would also increase performance\n",
    "# suspected_layers.extend(list(layer_stats[:5]['tensor_name']))\n",
    "# suspected_layers = np.unique(np.array(suspected_layers))\n",
    "# print(suspected_layers)"
   ]
  },
  {
   "cell_type": "code",
   "execution_count": 44,
   "metadata": {},
   "outputs": [
    {
     "name": "stderr",
     "output_type": "stream",
     "text": [
      "2022-06-27 22:39:27.117842: W tensorflow/compiler/mlir/lite/python/tf_tfl_flatbuffer_helpers.cc:362] Ignored output_format.\n",
      "2022-06-27 22:39:27.117887: W tensorflow/compiler/mlir/lite/python/tf_tfl_flatbuffer_helpers.cc:365] Ignored drop_control_dependency.\n",
      "2022-06-27 22:39:27.118103: I tensorflow/cc/saved_model/reader.cc:43] Reading SavedModel from: ./checkpoints/day_tw_qat_tf29/save_model_0059_tflite/\n",
      "2022-06-27 22:39:27.148816: I tensorflow/cc/saved_model/reader.cc:81] Reading meta graph with tags { serve }\n",
      "2022-06-27 22:39:27.148877: I tensorflow/cc/saved_model/reader.cc:122] Reading SavedModel debug info (if present) from: ./checkpoints/day_tw_qat_tf29/save_model_0059_tflite/\n",
      "2022-06-27 22:39:27.278948: I tensorflow/cc/saved_model/loader.cc:228] Restoring SavedModel bundle.\n",
      "2022-06-27 22:39:27.814661: I tensorflow/cc/saved_model/loader.cc:212] Running initialization op on SavedModel bundle at path: ./checkpoints/day_tw_qat_tf29/save_model_0059_tflite/\n",
      "2022-06-27 22:39:28.018196: I tensorflow/cc/saved_model/loader.cc:301] SavedModel load for tags { serve }; Status: success: OK. Took 900094 microseconds.\n",
      "100%|████████████████████████████████████████████████████████████████████████████████████████████████████████████| 50/50 [00:40<00:00,  1.22it/s, image=datasets/data_selection/images/image_000741.jpg]\n",
      "fully_quantize: 0, inference_type: 6, input_inference_type: 0, output_inference_type: 0\n"
     ]
    }
   ],
   "source": [
    "debug_options = tf.lite.experimental.QuantizationDebugOptions(\n",
    "    denylisted_nodes=suspected_layers)\n",
    "debugger = tf.lite.experimental.QuantizationDebugger(\n",
    "    converter=converter,\n",
    "    debug_dataset=representative_data_gen,\n",
    "    debug_options=debug_options)\n"
   ]
  },
  {
   "cell_type": "code",
   "execution_count": 45,
   "metadata": {},
   "outputs": [
    {
     "name": "stdout",
     "output_type": "stream",
     "text": [
      "selective model 6017440 bytes\n"
     ]
    },
    {
     "name": "stderr",
     "output_type": "stream",
     "text": [
      "fully_quantize: 0, inference_type: 6, input_inference_type: 0, output_inference_type: 0\n"
     ]
    }
   ],
   "source": [
    "# selective_quantized_model = debugger.get_nondebug_quantized_model()\n",
    "# open('./checkpoints/day_tw_qat_tf29/selective_int8_thresh_29.tflite', 'wb').write(selective_quantized_model)\n",
    "# 39 23596392 \n",
    "# 46 23596960 \n",
    "# 58 23599040 \n",
    "# 65 23598584 \n",
    "# 97 23591704 \n",
    "# rev 38 6017440 \n",
    "selective_quantized_model_dbg = debugger.get_nondebug_quantized_model()\n",
    "num_of_bytes = open(f'./selective_int8_model_rev_{len(suspected_layers)}layer.tflite', 'wb').write(selective_quantized_model_dbg)\n",
    "print(f'selective model {num_of_bytes} bytes')"
   ]
  },
  {
   "cell_type": "code",
   "execution_count": null,
   "metadata": {},
   "outputs": [],
   "source": []
  }
 ],
 "metadata": {
  "kernelspec": {
   "display_name": "Python 3.8.13 ('WJtf29')",
   "language": "python",
   "name": "python3"
  },
  "language_info": {
   "codemirror_mode": {
    "name": "ipython",
    "version": 3
   },
   "file_extension": ".py",
   "mimetype": "text/x-python",
   "name": "python",
   "nbconvert_exporter": "python",
   "pygments_lexer": "ipython3",
   "version": "3.8.13"
  },
  "orig_nbformat": 4,
  "vscode": {
   "interpreter": {
    "hash": "f9de21d8ac59078702cddab91338c80379cc39134c659c0396b5010d46774626"
   }
  }
 },
 "nbformat": 4,
 "nbformat_minor": 2
}
